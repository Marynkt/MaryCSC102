{
 "cells": [
  {
   "cell_type": "markdown",
   "metadata": {},
   "source": [
    "# Mary Nkata\n",
    "## 20120612042\n",
    "### mary.nkata@pau.edu.ng"
   ]
  },
  {
   "cell_type": "markdown",
   "metadata": {},
   "source": [
    "# Exercise 1\n"
   ]
  },
  {
   "cell_type": "code",
   "execution_count": 8,
   "metadata": {},
   "outputs": [
    {
     "name": "stdout",
     "output_type": "stream",
     "text": [
      "What is the number?23\n",
      "12\n"
     ]
    }
   ],
   "source": [
    "a = int(input(\"What is the number?\"))\n",
    "\n",
    "b = a - 17\n",
    "\n",
    "if a>17:\n",
    "    print (b*2)\n",
    "else:\n",
    "    print (abs(b))\n",
    "    "
   ]
  },
  {
   "cell_type": "markdown",
   "metadata": {},
   "source": [
    "# Exercise 2"
   ]
  },
  {
   "cell_type": "code",
   "execution_count": null,
   "metadata": {},
   "outputs": [],
   "source": [
    "a = int(input(\"What is the first number?\"))\n",
    "b = int(input(\"What is the second number?\"))\n",
    "c = int(input(\"What is the third number?\"))\n",
    "\n",
    "if a == b == c:\n",
    "    print(3*a)\n",
    "else:\n",
    "    print(a+b+c)"
   ]
  },
  {
   "cell_type": "markdown",
   "metadata": {},
   "source": [
    "# Exercise 3"
   ]
  },
  {
   "cell_type": "code",
   "execution_count": 11,
   "metadata": {},
   "outputs": [
    {
     "name": "stdout",
     "output_type": "stream",
     "text": [
      "What is the first number?7\n",
      "What is the second number?2\n",
      "True\n"
     ]
    }
   ],
   "source": [
    "a = int(input(\"What is the first number?\"))\n",
    "b = int(input(\"What is the second number?\"))\n",
    "\n",
    "if a == b:\n",
    "    print(\"True\")\n",
    "    \n",
    "elif abs(a-b) == 5:\n",
    "    print(\"True\")\n",
    "\n",
    "elif a+b == 5:\n",
    "    print(\"True\")\n",
    "    \n",
    "else:\n",
    "    print(False)"
   ]
  },
  {
   "cell_type": "markdown",
   "metadata": {},
   "source": [
    "# Exercise 4"
   ]
  },
  {
   "cell_type": "code",
   "execution_count": null,
   "metadata": {},
   "outputs": [],
   "source": [
    "a = int(input(\"What is the first number?\"))\n",
    "b = int(input(\"What is the second number?\"))\n",
    "c = int(input(\"What is the third number?\"))\n",
    "\n"
   ]
  },
  {
   "cell_type": "markdown",
   "metadata": {},
   "source": [
    "# Exercise 5"
   ]
  },
  {
   "cell_type": "code",
   "execution_count": null,
   "metadata": {},
   "outputs": [],
   "source": [
    "a = int(input(\"What is the number?\"))\n"
   ]
  },
  {
   "cell_type": "code",
   "execution_count": null,
   "metadata": {},
   "outputs": [],
   "source": []
  }
 ],
 "metadata": {
  "kernelspec": {
   "display_name": "Python 3",
   "language": "python",
   "name": "python3"
  },
  "language_info": {
   "codemirror_mode": {
    "name": "ipython",
    "version": 3
   },
   "file_extension": ".py",
   "mimetype": "text/x-python",
   "name": "python",
   "nbconvert_exporter": "python",
   "pygments_lexer": "ipython3",
   "version": "3.8.5"
  }
 },
 "nbformat": 4,
 "nbformat_minor": 4
}
